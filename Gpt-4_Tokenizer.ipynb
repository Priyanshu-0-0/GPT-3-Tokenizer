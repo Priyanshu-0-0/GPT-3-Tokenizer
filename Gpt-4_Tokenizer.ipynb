{
 "cells": [
  {
   "cell_type": "code",
   "execution_count": null,
   "metadata": {},
   "outputs": [],
   "source": [
    "class gpt4_tokenizer:\n",
    "    def __init__(self,traing_data,vocab_size):\n",
    "        self.text=traing_data\n",
    "        self.vocab_size=vocab_size\n",
    "    def \n",
    "    def train(self,text,vocab_size,verbose=False)"
   ]
  }
 ],
 "metadata": {
  "language_info": {
   "name": "python"
  }
 },
 "nbformat": 4,
 "nbformat_minor": 2
}
